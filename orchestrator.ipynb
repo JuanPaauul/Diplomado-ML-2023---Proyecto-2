{
 "cells": [
  {
   "cell_type": "code",
   "execution_count": 1,
   "metadata": {},
   "outputs": [],
   "source": [
    "from azure.ai.ml import load_component\n",
    "from azure.ai.ml.dsl import pipeline\n",
    "from azure.ai.ml import MLClient, Input\n",
    "from azure.identity import DefaultAzureCredential, EnvironmentCredential\n",
    "from azure.ai.ml.entities import AmlCompute\n",
    "from dotenv import load_dotenv\n",
    "import os\n",
    "import pandas as pd"
   ]
  },
  {
   "cell_type": "code",
   "execution_count": 2,
   "metadata": {},
   "outputs": [
    {
     "name": "stdout",
     "output_type": "stream",
     "text": [
      "Cargar username/pass desde archivo .env\n"
     ]
    },
    {
     "data": {
      "text/plain": [
       "True"
      ]
     },
     "execution_count": 2,
     "metadata": {},
     "output_type": "execute_result"
    }
   ],
   "source": [
    "print(\"Cargar username/pass desde archivo .env\")\n",
    "load_dotenv(\"env.txt\")"
   ]
  },
  {
   "cell_type": "code",
   "execution_count": 3,
   "metadata": {},
   "outputs": [],
   "source": [
    "def get_comput_target(ml_client, name=\"cpu-cluster\", family='Standard_DS2_v2'):\n",
    "    cpu_compute_target = name\n",
    "    \n",
    "    try:\n",
    "        # let's see if the compute target already exists\n",
    "        cpu_cluster = ml_client.compute.get(cpu_compute_target)\n",
    "    except Exception:\n",
    "        cpu_cluster = AmlCompute(\n",
    "            name=cpu_compute_target,\n",
    "            type=\"amlcompute\",\n",
    "            size=family,\n",
    "            min_instances=0,\n",
    "            max_instances=4,\n",
    "            idle_time_before_scale_down=180,\n",
    "            tier=\"Dedicated\",\n",
    "        )\n",
    "    \n",
    "        cpu_cluster = ml_client.compute.begin_create_or_update(cpu_cluster).result()"
   ]
  },
  {
   "cell_type": "code",
   "execution_count": 4,
   "metadata": {},
   "outputs": [
    {
     "name": "stderr",
     "output_type": "stream",
     "text": [
      "Found the config file in: .\\config.json\n"
     ]
    }
   ],
   "source": [
    "credential = DefaultAzureCredential()\n",
    "ml_client = MLClient.from_config(credential=credential)"
   ]
  },
  {
   "cell_type": "code",
   "execution_count": 5,
   "metadata": {},
   "outputs": [
    {
     "data": {
      "text/plain": [
       "AccessToken(token='eyJ0eXAiOiJKV1QiLCJhbGciOiJSUzI1NiIsIng1dCI6IjlHbW55RlBraGMzaE91UjIybXZTdmduTG83WSIsImtpZCI6IjlHbW55RlBraGMzaE91UjIybXZTdmduTG83WSJ9.eyJhdWQiOiJodHRwczovL21hbmFnZW1lbnQuYXp1cmUuY29tIiwiaXNzIjoiaHR0cHM6Ly9zdHMud2luZG93cy5uZXQvODRjYmMyMWItZmRmMy00MjcyLWFkMzQtZjRjMGZjZjcwZmExLyIsImlhdCI6MTY5OTE0MzUyNSwibmJmIjoxNjk5MTQzNTI1LCJleHAiOjE2OTkxNDc0MjUsImFpbyI6IkUyRmdZRmgyOThCaHJ3RDErdm81SDNhSmVvdE1BUUE9IiwiYXBwaWQiOiIwODg0MjVjNS01NDkxLTQyMWUtYmUyMy0wMmEyZjAwODc5MjciLCJhcHBpZGFjciI6IjEiLCJpZHAiOiJodHRwczovL3N0cy53aW5kb3dzLm5ldC84NGNiYzIxYi1mZGYzLTQyNzItYWQzNC1mNGMwZmNmNzBmYTEvIiwiaWR0eXAiOiJhcHAiLCJvaWQiOiJiODc2NDFkMy0yOTUwLTQwNzQtYTI2OS01YjI2ODhjNjczOTMiLCJyaCI6IjAuQWIwQUc4TExoUFA5Y2tLdE5QVEFfUGNQb1VaSWYza0F1dGRQdWtQYXdmajJNQlBMQUFBLiIsInN1YiI6ImI4NzY0MWQzLTI5NTAtNDA3NC1hMjY5LTViMjY4OGM2NzM5MyIsInRpZCI6Ijg0Y2JjMjFiLWZkZjMtNDI3Mi1hZDM0LWY0YzBmY2Y3MGZhMSIsInV0aSI6InNtVjVmcUhPMFV1d3FIV2FYZzVSQUEiLCJ2ZXIiOiIxLjAiLCJ4bXNfY2FlIjoiMSIsInhtc190Y2R0IjoxNjk1MjU5MzQxfQ.FXkaeJL2-VU1ODt_mW31YSs2QUB6DBaCDnJuvbk5MJSMXYFOJIB_PAw3GCnHktCCWkkMhC8F__AAJOHM93RDbxG0vw-EgGOFcNWRbWaYhAkyWCEBgZt6quL1sA0nvsGsulZDTJAb_P2NfRSxSN681XDoJf3H5uW2kZP52vGcxy6f_EehI0PXVblyxztPw7NHuCSrv2hdoIIj0H9HQIGt0R3qK0TTcPh1pscOL6lfMfB6unQaST2xYt9q2fY3pCTKzeuRdvUweVkVxwF82XxB9dZ_TxqFtpbNUe1ePq5s9jIoljY9LyZZ4rHSAUxONFx_WP34n8xqxwPts07XYSuYFQ', expires_on=1699147424)"
      ]
     },
     "execution_count": 5,
     "metadata": {},
     "output_type": "execute_result"
    }
   ],
   "source": [
    "credential.get_token(\"https://management.azure.com/.default\")"
   ]
  },
  {
   "cell_type": "code",
   "execution_count": 6,
   "metadata": {},
   "outputs": [],
   "source": [
    "compute_target = get_comput_target(ml_client)"
   ]
  },
  {
   "cell_type": "code",
   "execution_count": 7,
   "metadata": {},
   "outputs": [
    {
     "ename": "ValidationException",
     "evalue": "Target yaml file is empty",
     "output_type": "error",
     "traceback": [
      "\u001b[1;31m---------------------------------------------------------------------------\u001b[0m",
      "\u001b[1;31mValidationException\u001b[0m                       Traceback (most recent call last)",
      "\u001b[1;32mc:\\Users\\Y540\\Documents\\Diplomado ML\\Modulo 4\\Diplomado-ML-2023---Proyecto-2\\orchestrator.ipynb Cell 7\u001b[0m line \u001b[0;36m2\n\u001b[0;32m      <a href='vscode-notebook-cell:/c%3A/Users/Y540/Documents/Diplomado%20ML/Modulo%204/Diplomado-ML-2023---Proyecto-2/orchestrator.ipynb#W6sZmlsZQ%3D%3D?line=0'>1</a>\u001b[0m \u001b[39m# TODO Add the rest of the components\u001b[39;00m\n\u001b[1;32m----> <a href='vscode-notebook-cell:/c%3A/Users/Y540/Documents/Diplomado%20ML/Modulo%204/Diplomado-ML-2023---Proyecto-2/orchestrator.ipynb#W6sZmlsZQ%3D%3D?line=1'>2</a>\u001b[0m train_component \u001b[39m=\u001b[39m load_component(source\u001b[39m=\u001b[39;49m\u001b[39m\"\u001b[39;49m\u001b[39m./clean-data-component/clean-data.yml\u001b[39;49m\u001b[39m\"\u001b[39;49m)\n",
      "File \u001b[1;32mc:\\Users\\Y540\\.conda\\envs\\ML-Azure\\lib\\site-packages\\azure\\ai\\ml\\entities\\_load_functions.py:401\u001b[0m, in \u001b[0;36mload_component\u001b[1;34m(source, relative_origin, **kwargs)\u001b[0m\n\u001b[0;32m    398\u001b[0m version \u001b[39m=\u001b[39m kwargs\u001b[39m.\u001b[39mpop(\u001b[39m\"\u001b[39m\u001b[39mversion\u001b[39m\u001b[39m\"\u001b[39m, \u001b[39mNone\u001b[39;00m)\n\u001b[0;32m    400\u001b[0m \u001b[39mif\u001b[39;00m source:\n\u001b[1;32m--> 401\u001b[0m     component_entity \u001b[39m=\u001b[39m load_common(Component, source, relative_origin, \u001b[39m*\u001b[39m\u001b[39m*\u001b[39mkwargs)\n\u001b[0;32m    402\u001b[0m \u001b[39melif\u001b[39;00m client \u001b[39mand\u001b[39;00m name \u001b[39mand\u001b[39;00m version:\n\u001b[0;32m    403\u001b[0m     component_entity \u001b[39m=\u001b[39m client\u001b[39m.\u001b[39mcomponents\u001b[39m.\u001b[39mget(name, version)\n",
      "File \u001b[1;32mc:\\Users\\Y540\\.conda\\envs\\ML-Azure\\lib\\site-packages\\azure\\ai\\ml\\entities\\_load_functions.py:94\u001b[0m, in \u001b[0;36mload_common\u001b[1;34m(cls, source, relative_origin, params_override, **kwargs)\u001b[0m\n\u001b[0;32m     91\u001b[0m             relative_origin \u001b[39m=\u001b[39m _DEFAULT_RELATIVE_ORIGIN\n\u001b[0;32m     93\u001b[0m params_override \u001b[39m=\u001b[39m params_override \u001b[39mor\u001b[39;00m []\n\u001b[1;32m---> 94\u001b[0m yaml_dict \u001b[39m=\u001b[39m _try_load_yaml_dict(source)\n\u001b[0;32m     96\u001b[0m \u001b[39m# pylint: disable=protected-access\u001b[39;00m\n\u001b[0;32m     97\u001b[0m \u001b[39mcls\u001b[39m, type_str \u001b[39m=\u001b[39m \u001b[39mcls\u001b[39m\u001b[39m.\u001b[39m_resolve_cls_and_type(data\u001b[39m=\u001b[39myaml_dict, params_override\u001b[39m=\u001b[39mparams_override)\n",
      "File \u001b[1;32mc:\\Users\\Y540\\.conda\\envs\\ML-Azure\\lib\\site-packages\\azure\\ai\\ml\\entities\\_load_functions.py:133\u001b[0m, in \u001b[0;36m_try_load_yaml_dict\u001b[1;34m(source)\u001b[0m\n\u001b[0;32m    131\u001b[0m \u001b[39mif\u001b[39;00m yaml_dict \u001b[39mis\u001b[39;00m \u001b[39mNone\u001b[39;00m:  \u001b[39m# This happens when a YAML is empty.\u001b[39;00m\n\u001b[0;32m    132\u001b[0m     msg \u001b[39m=\u001b[39m \u001b[39m\"\u001b[39m\u001b[39mTarget yaml file is empty\u001b[39m\u001b[39m\"\u001b[39m\n\u001b[1;32m--> 133\u001b[0m     \u001b[39mraise\u001b[39;00m ValidationException(\n\u001b[0;32m    134\u001b[0m         message\u001b[39m=\u001b[39mmsg,\n\u001b[0;32m    135\u001b[0m         target\u001b[39m=\u001b[39mErrorTarget\u001b[39m.\u001b[39mCOMPONENT,\n\u001b[0;32m    136\u001b[0m         no_personal_data_message\u001b[39m=\u001b[39mmsg,\n\u001b[0;32m    137\u001b[0m         error_category\u001b[39m=\u001b[39mErrorCategory\u001b[39m.\u001b[39mUSER_ERROR,\n\u001b[0;32m    138\u001b[0m         error_type\u001b[39m=\u001b[39mValidationErrorType\u001b[39m.\u001b[39mCANNOT_PARSE,\n\u001b[0;32m    139\u001b[0m     )\n\u001b[0;32m    140\u001b[0m \u001b[39mif\u001b[39;00m \u001b[39mnot\u001b[39;00m \u001b[39misinstance\u001b[39m(yaml_dict, \u001b[39mdict\u001b[39m):  \u001b[39m# This happens when a YAML file is mal formatted.\u001b[39;00m\n\u001b[0;32m    141\u001b[0m     msg \u001b[39m=\u001b[39m \u001b[39m\"\u001b[39m\u001b[39mExpect dict but get \u001b[39m\u001b[39m{}\u001b[39;00m\u001b[39m after parsing yaml file\u001b[39m\u001b[39m\"\u001b[39m\n",
      "\u001b[1;31mValidationException\u001b[0m: Target yaml file is empty"
     ]
    }
   ],
   "source": [
    "# TODO Add the rest of the components\n",
    "train_component = load_component(source=\"./clean-data-component/clean-data.yml\")"
   ]
  }
 ],
 "metadata": {
  "kernelspec": {
   "display_name": "ML-Azure",
   "language": "python",
   "name": "python3"
  },
  "language_info": {
   "codemirror_mode": {
    "name": "ipython",
    "version": 3
   },
   "file_extension": ".py",
   "mimetype": "text/x-python",
   "name": "python",
   "nbconvert_exporter": "python",
   "pygments_lexer": "ipython3",
   "version": "3.10.13"
  }
 },
 "nbformat": 4,
 "nbformat_minor": 2
}
