{
 "cells": [
  {
   "cell_type": "code",
   "execution_count": 1,
   "metadata": {},
   "outputs": [],
   "source": [
    "from azure.ai.ml import load_component\n",
    "from azure.ai.ml.dsl import pipeline\n",
    "from azure.ai.ml import MLClient, Input\n",
    "from azure.identity import DefaultAzureCredential, EnvironmentCredential\n",
    "from azure.ai.ml.entities import AmlCompute\n",
    "from dotenv import load_dotenv\n",
    "from pathlib import Path\n",
    "import pandas as pd"
   ]
  },
  {
   "cell_type": "code",
   "execution_count": 2,
   "metadata": {},
   "outputs": [
    {
     "name": "stdout",
     "output_type": "stream",
     "text": [
      "Cargar username/pass desde archivo .env\n"
     ]
    },
    {
     "data": {
      "text/plain": [
       "True"
      ]
     },
     "execution_count": 2,
     "metadata": {},
     "output_type": "execute_result"
    }
   ],
   "source": [
    "print(\"Cargar username/pass desde archivo .env\")\n",
    "load_dotenv(\"env.txt\")"
   ]
  },
  {
   "cell_type": "code",
   "execution_count": 3,
   "metadata": {},
   "outputs": [],
   "source": [
    "def get_comput_target(ml_client, name=\"cpu-cluster\", family='Standard_DS2_v2'):\n",
    "    cpu_compute_target = name\n",
    "    \n",
    "    try:\n",
    "        # let's see if the compute target already exists\n",
    "        cpu_cluster = ml_client.compute.get(cpu_compute_target)\n",
    "    except Exception:\n",
    "        cpu_cluster = AmlCompute(\n",
    "            name=cpu_compute_target,\n",
    "            type=\"amlcompute\",\n",
    "            size=family,\n",
    "            min_instances=0,\n",
    "            max_instances=4,\n",
    "            idle_time_before_scale_down=180,\n",
    "            tier=\"Dedicated\",\n",
    "        )\n",
    "    \n",
    "        cpu_cluster = ml_client.compute.begin_create_or_update(cpu_cluster).result()"
   ]
  },
  {
   "cell_type": "code",
   "execution_count": 4,
   "metadata": {},
   "outputs": [
    {
     "name": "stderr",
     "output_type": "stream",
     "text": [
      "Found the config file in: .\\config.json\n"
     ]
    }
   ],
   "source": [
    "credential = DefaultAzureCredential()\n",
    "ml_client = MLClient.from_config(credential=credential)"
   ]
  },
  {
   "cell_type": "code",
   "execution_count": 5,
   "metadata": {},
   "outputs": [
    {
     "data": {
      "text/plain": [
       "AccessToken(token='eyJ0eXAiOiJKV1QiLCJhbGciOiJSUzI1NiIsIng1dCI6IjlHbW55RlBraGMzaE91UjIybXZTdmduTG83WSIsImtpZCI6IjlHbW55RlBraGMzaE91UjIybXZTdmduTG83WSJ9.eyJhdWQiOiJodHRwczovL21hbmFnZW1lbnQuYXp1cmUuY29tIiwiaXNzIjoiaHR0cHM6Ly9zdHMud2luZG93cy5uZXQvODRjYmMyMWItZmRmMy00MjcyLWFkMzQtZjRjMGZjZjcwZmExLyIsImlhdCI6MTY5OTQxNzAzMCwibmJmIjoxNjk5NDE3MDMwLCJleHAiOjE2OTk0MjA5MzAsImFpbyI6IkUyRmdZR0Q2S21UM2FqRnYyUG9Qelo4ZUtWNWVBQUE9IiwiYXBwaWQiOiIwODg0MjVjNS01NDkxLTQyMWUtYmUyMy0wMmEyZjAwODc5MjciLCJhcHBpZGFjciI6IjEiLCJpZHAiOiJodHRwczovL3N0cy53aW5kb3dzLm5ldC84NGNiYzIxYi1mZGYzLTQyNzItYWQzNC1mNGMwZmNmNzBmYTEvIiwiaWR0eXAiOiJhcHAiLCJvaWQiOiJiODc2NDFkMy0yOTUwLTQwNzQtYTI2OS01YjI2ODhjNjczOTMiLCJyaCI6IjAuQWIwQUc4TExoUFA5Y2tLdE5QVEFfUGNQb1VaSWYza0F1dGRQdWtQYXdmajJNQlBMQUFBLiIsInN1YiI6ImI4NzY0MWQzLTI5NTAtNDA3NC1hMjY5LTViMjY4OGM2NzM5MyIsInRpZCI6Ijg0Y2JjMjFiLWZkZjMtNDI3Mi1hZDM0LWY0YzBmY2Y3MGZhMSIsInV0aSI6InVIcTl0RHhQbVUtUUFKSkZxWnl6QUEiLCJ2ZXIiOiIxLjAiLCJ4bXNfY2FlIjoiMSIsInhtc190Y2R0IjoxNjk1MjU5MzQxfQ.f8D2-sIIkaWAydhDBK4BiYVNm9nk3P5VZPWV2paaBvONI7ck7dA9bZQ2hr9YfMtQz1te5W6zGhvn77Qu4AfbZdA1j1pTW0ypjhy_EvY1WBWafNMb99-CxYMkBkeJfxcypLhq_ugKpIB5B96d7F0q6m6K3LI56xgeJb5B6HPtzhZjrbIxRuK5uW_ts5EzBRowpW58MnKNKoQ-ZU4n6_-J9eEcRCyULnRXXNxqcQun-BODXlMef7h9p5f_TQe14hcdFhOOwqJem0EvKwOBsRUaYgZ9ibSutGttbwYDKb8lp86VyUssvQMbCLJf30jvQ-Hmb--nTHvSMqK8h_20ZTKTsw', expires_on=1699420928)"
      ]
     },
     "execution_count": 5,
     "metadata": {},
     "output_type": "execute_result"
    }
   ],
   "source": [
    "credential.get_token(\"https://management.azure.com/.default\")"
   ]
  },
  {
   "cell_type": "code",
   "execution_count": 6,
   "metadata": {},
   "outputs": [],
   "source": [
    "compute_target = get_comput_target(ml_client)"
   ]
  },
  {
   "cell_type": "code",
   "execution_count": 7,
   "metadata": {},
   "outputs": [],
   "source": [
    "train_component = load_component(source=\"./train-component/dt_train.yml\")\n",
    "split_data_component = load_component(source=\"./split-data-component/split.yml\")\n",
    "score_component = load_component(source=\"./score-component/score.yml\")\n",
    "eval_model_component = load_component(source=\"./eval-model-component/eval.yml\")\n",
    "clean_data_component = load_component(source=\"./clean-data-component/clean_data.yml\")"
   ]
  },
  {
   "cell_type": "code",
   "execution_count": 12,
   "metadata": {},
   "outputs": [],
   "source": [
    "# define a pipeline containing 3 nodes: Prepare data node, train node, and score node\n",
    "@pipeline(\n",
    "    default_compute='cpu-cluster',\n",
    ")\n",
    "def water_potability_decision_tree_dummy(pipeline_input_data):\n",
    "\n",
    "    clean_data_node = clean_data_component(\n",
    "        data_set = pipeline_input_data\n",
    "    )\n",
    "\n",
    "    split_data_node = split_data_component(\n",
    "        clean_data = clean_data_node.outputs.data_clean_output, # Directory\n",
    "        split_ratio_train = 0.8\n",
    "    )\n",
    "\n",
    "    train_node = train_component(\n",
    "        training_data=split_data_node.outputs.data_train, # File\n",
    "        criterion = 'entropy',\n",
    "        min_samples_split=2,\n",
    "        max_depth=None\n",
    "    )\n",
    "    \n",
    "    score_node = score_component(\n",
    "        test_data=split_data_node.outputs.data_test, # File\n",
    "        model_input=train_node.outputs.model_output # Folder\n",
    "    )\n",
    "\n",
    "    eval_node = eval_model_component(\n",
    "        scoring_result=score_node.outputs.score_output, # Folder\n",
    "        target_column = 'Potability'\n",
    "    )\n",
    "\n",
    "    return {\n",
    "        \"correlation_graph\" : clean_data_node.outputs.corr_matrix_output,\n",
    "        \"model_pkl\" : train_node.outputs.model_output,\n",
    "        \"model_metrics\": eval_node.outputs.eval_output\n",
    "    }\n",
    "\n",
    "\n",
    "# create a pipeline\n",
    "water_potability_ds =  Input(\n",
    "            type=\"uri_file\",\n",
    "            path=\"azureml://subscriptions/df5b1289-646f-4999-a2a8-7eec46d13e15/resourcegroups/Azure-ML/workspaces/Azureml/datastores/workspaceblobstore/paths/UI/2023-11-08_041356_UTC/water_potability_ds.csv\",\n",
    "        )\n",
    "pipeline_job = water_potability_decision_tree_dummy(pipeline_input_data=water_potability_ds)\n",
    "\n"
   ]
  },
  {
   "cell_type": "code",
   "execution_count": 13,
   "metadata": {},
   "outputs": [
    {
     "name": "stderr",
     "output_type": "stream",
     "text": [
      "Uploading eval_src (0.0 MBs): 100%|##########| 3120/3120 [00:01<00:00, 2485.50it/s] \n",
      "\n",
      "\n"
     ]
    },
    {
     "data": {
      "text/html": [
       "<table style=\"width:100%\"><tr><th>Experiment</th><th>Name</th><th>Type</th><th>Status</th><th>Details Page</th></tr><tr><td>pipeline_water_potability_dummy</td><td>dreamy_ice_33mphs0lwn</td><td>pipeline</td><td>Preparing</td><td><a href=\"https://ml.azure.com/runs/dreamy_ice_33mphs0lwn?wsid=/subscriptions/df5b1289-646f-4999-a2a8-7eec46d13e15/resourcegroups/Azure-ML/workspaces/Azureml&amp;tid=84cbc21b-fdf3-4272-ad34-f4c0fcf70fa1\" target=\"_blank\" rel=\"noopener\">Link to Azure Machine Learning studio</a></td></tr></table>"
      ],
      "text/plain": [
       "PipelineJob({'inputs': {'pipeline_input_data': <azure.ai.ml.entities._job.pipeline._io.base.PipelineInput object at 0x00000252587993F0>}, 'outputs': {'correlation_graph': <azure.ai.ml.entities._job.pipeline._io.base.PipelineOutput object at 0x0000025258799120>, 'model_pkl': <azure.ai.ml.entities._job.pipeline._io.base.PipelineOutput object at 0x00000252587988E0>, 'model_metrics': <azure.ai.ml.entities._job.pipeline._io.base.PipelineOutput object at 0x00000252587989D0>}, 'jobs': {}, 'component': PipelineComponent({'intellectual_property': None, 'auto_increment_version': False, 'source': 'REMOTE.WORKSPACE.JOB', 'is_anonymous': True, 'auto_delete_setting': None, 'name': 'azureml_anonymous', 'description': None, 'tags': {}, 'properties': {}, 'print_as_yaml': True, 'id': None, 'Resource__source_path': None, 'base_path': 'c:\\\\Users\\\\Y540\\\\Documents\\\\Diplomado ML\\\\Modulo 4\\\\Diplomado-ML-2023---Proyecto-2', 'creation_context': None, 'serialize': <msrest.serialization.Serializer object at 0x00000252587994E0>, 'version': '1', 'latest_version': None, 'schema': None, 'type': 'pipeline', 'display_name': 'water_potability_decision_tree_dummy', 'is_deterministic': None, 'inputs': {'pipeline_input_data': {}}, 'outputs': {'correlation_graph': {}, 'model_pkl': {}, 'model_metrics': {}}, 'yaml_str': None, 'other_parameter': {}, 'jobs': {'clean_data_node': Command({'parameters': {}, 'init': False, 'name': 'clean_data_node', 'type': 'command', 'status': None, 'log_files': None, 'description': None, 'tags': {}, 'properties': {}, 'print_as_yaml': True, 'id': None, 'Resource__source_path': None, 'base_path': 'c:\\\\Users\\\\Y540\\\\Documents\\\\Diplomado ML\\\\Modulo 4\\\\Diplomado-ML-2023---Proyecto-2', 'creation_context': None, 'serialize': <msrest.serialization.Serializer object at 0x0000025258799180>, 'allowed_keys': {}, 'key_restriction': False, 'logger': <Logger attr_dict (WARNING)>, 'display_name': None, 'experiment_name': None, 'compute': None, 'services': None, 'comment': None, 'job_inputs': {'data_set': '${{parent.inputs.pipeline_input_data}}'}, 'job_outputs': {'corr_matrix_output': '${{parent.outputs.correlation_graph}}'}, 'inputs': {'data_set': <azure.ai.ml.entities._job.pipeline._io.base.NodeInput object at 0x00000252587990F0>}, 'outputs': {'corr_matrix_output': <azure.ai.ml.entities._job.pipeline._io.base.NodeOutput object at 0x00000252584CB8B0>}, 'component': 'azureml_anonymous:2388c227-9d4e-4d09-afe2-c2257e2a493a', 'referenced_control_flow_node_instance_id': None, 'kwargs': {'services': None}, 'instance_id': 'b765a113-e5df-49f2-ae37-241f8fd42b45', 'source': 'REMOTE.WORKSPACE.COMPONENT', 'validate_required_input_not_provided': True, 'limits': None, 'identity': None, 'distribution': None, 'environment_variables': {}, 'environment': None, 'resources': None, 'queue_settings': None, 'swept': False}), 'split_data_node': Command({'parameters': {}, 'init': False, 'name': 'split_data_node', 'type': 'command', 'status': None, 'log_files': None, 'description': None, 'tags': {}, 'properties': {}, 'print_as_yaml': True, 'id': None, 'Resource__source_path': None, 'base_path': 'c:\\\\Users\\\\Y540\\\\Documents\\\\Diplomado ML\\\\Modulo 4\\\\Diplomado-ML-2023---Proyecto-2', 'creation_context': None, 'serialize': <msrest.serialization.Serializer object at 0x0000025258799D80>, 'allowed_keys': {}, 'key_restriction': False, 'logger': <Logger attr_dict (WARNING)>, 'display_name': None, 'experiment_name': None, 'compute': None, 'services': None, 'comment': None, 'job_inputs': {'split_ratio_train': '0.8', 'clean_data': '${{parent.jobs.clean_data_node.outputs.data_clean_output}}'}, 'job_outputs': {}, 'inputs': {'split_ratio_train': <azure.ai.ml.entities._job.pipeline._io.base.NodeInput object at 0x00000252587990C0>, 'clean_data': <azure.ai.ml.entities._job.pipeline._io.base.NodeInput object at 0x00000252587987C0>}, 'outputs': {}, 'component': 'azureml_anonymous:07923a77-159c-4267-a260-c24b9b3a5f19', 'referenced_control_flow_node_instance_id': None, 'kwargs': {'services': None}, 'instance_id': '2415301e-ad6a-4c7d-a212-88613025d600', 'source': 'REMOTE.WORKSPACE.COMPONENT', 'validate_required_input_not_provided': True, 'limits': None, 'identity': None, 'distribution': None, 'environment_variables': {}, 'environment': None, 'resources': None, 'queue_settings': None, 'swept': False}), 'train_node': Command({'parameters': {}, 'init': False, 'name': 'train_node', 'type': 'command', 'status': None, 'log_files': None, 'description': None, 'tags': {}, 'properties': {}, 'print_as_yaml': True, 'id': None, 'Resource__source_path': None, 'base_path': 'c:\\\\Users\\\\Y540\\\\Documents\\\\Diplomado ML\\\\Modulo 4\\\\Diplomado-ML-2023---Proyecto-2', 'creation_context': None, 'serialize': <msrest.serialization.Serializer object at 0x000002525879BC10>, 'allowed_keys': {}, 'key_restriction': False, 'logger': <Logger attr_dict (WARNING)>, 'display_name': None, 'experiment_name': None, 'compute': None, 'services': None, 'comment': None, 'job_inputs': {'criterion': 'entropy', 'min_samples_split': '2', 'training_data': '${{parent.jobs.split_data_node.outputs.data_train}}'}, 'job_outputs': {'model_output': '${{parent.outputs.model_pkl}}'}, 'inputs': {'criterion': <azure.ai.ml.entities._job.pipeline._io.base.NodeInput object at 0x0000025258799BD0>, 'min_samples_split': <azure.ai.ml.entities._job.pipeline._io.base.NodeInput object at 0x000002525879BD30>, 'training_data': <azure.ai.ml.entities._job.pipeline._io.base.NodeInput object at 0x0000025258798E50>}, 'outputs': {'model_output': <azure.ai.ml.entities._job.pipeline._io.base.NodeOutput object at 0x0000025258799CF0>}, 'component': 'azureml_anonymous:3140c36c-4a54-4e16-a4ff-58ab71064048', 'referenced_control_flow_node_instance_id': None, 'kwargs': {'services': None}, 'instance_id': '0da47e66-c112-4170-b548-a8d41760ef97', 'source': 'REMOTE.WORKSPACE.COMPONENT', 'validate_required_input_not_provided': True, 'limits': None, 'identity': None, 'distribution': None, 'environment_variables': {}, 'environment': None, 'resources': None, 'queue_settings': None, 'swept': False}), 'score_node': Command({'parameters': {}, 'init': False, 'name': 'score_node', 'type': 'command', 'status': None, 'log_files': None, 'description': None, 'tags': {}, 'properties': {}, 'print_as_yaml': True, 'id': None, 'Resource__source_path': None, 'base_path': 'c:\\\\Users\\\\Y540\\\\Documents\\\\Diplomado ML\\\\Modulo 4\\\\Diplomado-ML-2023---Proyecto-2', 'creation_context': None, 'serialize': <msrest.serialization.Serializer object at 0x000002525879A230>, 'allowed_keys': {}, 'key_restriction': False, 'logger': <Logger attr_dict (WARNING)>, 'display_name': None, 'experiment_name': None, 'compute': None, 'services': None, 'comment': None, 'job_inputs': {'model_input': '${{parent.jobs.train_node.outputs.model_output}}', 'test_data': '${{parent.jobs.split_data_node.outputs.data_test}}'}, 'job_outputs': {}, 'inputs': {'model_input': <azure.ai.ml.entities._job.pipeline._io.base.NodeInput object at 0x000002525879A6B0>, 'test_data': <azure.ai.ml.entities._job.pipeline._io.base.NodeInput object at 0x000002525879B790>}, 'outputs': {}, 'component': 'azureml_anonymous:7959b62d-cb63-4381-9e37-ed5dc21048b4', 'referenced_control_flow_node_instance_id': None, 'kwargs': {'services': None}, 'instance_id': 'ff0e1161-64e4-4bdc-a502-68fcd3929ac9', 'source': 'REMOTE.WORKSPACE.COMPONENT', 'validate_required_input_not_provided': True, 'limits': None, 'identity': None, 'distribution': None, 'environment_variables': {}, 'environment': None, 'resources': None, 'queue_settings': None, 'swept': False}), 'eval_node': Command({'parameters': {}, 'init': False, 'name': 'eval_node', 'type': 'command', 'status': None, 'log_files': None, 'description': None, 'tags': {}, 'properties': {}, 'print_as_yaml': True, 'id': None, 'Resource__source_path': None, 'base_path': 'c:\\\\Users\\\\Y540\\\\Documents\\\\Diplomado ML\\\\Modulo 4\\\\Diplomado-ML-2023---Proyecto-2', 'creation_context': None, 'serialize': <msrest.serialization.Serializer object at 0x00000252587986D0>, 'allowed_keys': {}, 'key_restriction': False, 'logger': <Logger attr_dict (WARNING)>, 'display_name': None, 'experiment_name': None, 'compute': None, 'services': None, 'comment': None, 'job_inputs': {'target_column': 'Potability', 'scoring_result': '${{parent.jobs.score_node.outputs.score_output}}'}, 'job_outputs': {'eval_output': '${{parent.outputs.model_metrics}}'}, 'inputs': {'target_column': <azure.ai.ml.entities._job.pipeline._io.base.NodeInput object at 0x000002525879ADD0>, 'scoring_result': <azure.ai.ml.entities._job.pipeline._io.base.NodeInput object at 0x0000025258798670>}, 'outputs': {'eval_output': <azure.ai.ml.entities._job.pipeline._io.base.NodeOutput object at 0x0000025258799030>}, 'component': 'azureml_anonymous:112b9ed0-c178-42db-891e-dda6e97098b5', 'referenced_control_flow_node_instance_id': None, 'kwargs': {'services': None}, 'instance_id': 'aab3a5ed-459b-4202-9a42-e8741e00802a', 'source': 'REMOTE.WORKSPACE.COMPONENT', 'validate_required_input_not_provided': True, 'limits': None, 'identity': None, 'distribution': None, 'environment_variables': {}, 'environment': None, 'resources': None, 'queue_settings': None, 'swept': False})}, 'job_types': {'command': 5}, 'job_sources': {'REMOTE.WORKSPACE.COMPONENT': 5}, 'source_job_id': None}), 'type': 'pipeline', 'status': 'Preparing', 'log_files': None, 'name': 'dreamy_ice_33mphs0lwn', 'description': None, 'tags': {}, 'properties': {'mlflow.source.git.repoURL': 'https://github.com/JuanPaauul/Diplomado-ML-2023---Proyecto-2.git', 'mlflow.source.git.branch': 'main', 'mlflow.source.git.commit': '7c305e5e656eb4769abd27acbd0a4993a796e102', 'azureml.git.dirty': 'True', 'azureml.DevPlatv2': 'true', 'azureml.DatasetAccessMode': 'Asset', 'azureml.runsource': 'azureml.PipelineRun', 'runSource': 'MFE', 'runType': 'HTTP', 'azureml.parameters': '{}', 'azureml.continue_on_step_failure': 'True', 'azureml.continue_on_failed_optional_input': 'True', 'azureml.enforceRerun': 'False', 'azureml.defaultComputeName': 'cpu-cluster', 'azureml.defaultDataStoreName': 'workspaceblobstore', 'azureml.pipelineComponent': 'pipelinerun'}, 'print_as_yaml': True, 'id': '/subscriptions/df5b1289-646f-4999-a2a8-7eec46d13e15/resourceGroups/Azure-ML/providers/Microsoft.MachineLearningServices/workspaces/Azureml/jobs/dreamy_ice_33mphs0lwn', 'Resource__source_path': None, 'base_path': 'c:\\\\Users\\\\Y540\\\\Documents\\\\Diplomado ML\\\\Modulo 4\\\\Diplomado-ML-2023---Proyecto-2', 'creation_context': <azure.ai.ml.entities._system_data.SystemData object at 0x000002525879B190>, 'serialize': <msrest.serialization.Serializer object at 0x0000025258798BB0>, 'display_name': 'water_potability_decision_tree_dummy', 'experiment_name': 'pipeline_water_potability_dummy', 'compute': None, 'services': {'Tracking': {'endpoint': 'azureml://eastus.api.azureml.ms/mlflow/v1.0/subscriptions/df5b1289-646f-4999-a2a8-7eec46d13e15/resourceGroups/Azure-ML/providers/Microsoft.MachineLearningServices/workspaces/Azureml?', 'type': 'Tracking'}, 'Studio': {'endpoint': 'https://ml.azure.com/runs/dreamy_ice_33mphs0lwn?wsid=/subscriptions/df5b1289-646f-4999-a2a8-7eec46d13e15/resourcegroups/Azure-ML/workspaces/Azureml&tid=84cbc21b-fdf3-4272-ad34-f4c0fcf70fa1', 'type': 'Studio'}}, 'settings': {}, 'identity': None, 'default_code': None, 'default_environment': None})"
      ]
     },
     "execution_count": 13,
     "metadata": {},
     "output_type": "execute_result"
    }
   ],
   "source": [
    "pipeline_job = ml_client.jobs.create_or_update(\n",
    "    pipeline_job, experiment_name=\"pipeline_water_potability_dummy\"\n",
    ")\n",
    "pipeline_job"
   ]
  },
  {
   "cell_type": "code",
   "execution_count": null,
   "metadata": {},
   "outputs": [],
   "source": []
  }
 ],
 "metadata": {
  "kernelspec": {
   "display_name": "ML-Azure",
   "language": "python",
   "name": "python3"
  },
  "language_info": {
   "codemirror_mode": {
    "name": "ipython",
    "version": 3
   },
   "file_extension": ".py",
   "mimetype": "text/x-python",
   "name": "python",
   "nbconvert_exporter": "python",
   "pygments_lexer": "ipython3",
   "version": "3.10.13"
  }
 },
 "nbformat": 4,
 "nbformat_minor": 2
}
