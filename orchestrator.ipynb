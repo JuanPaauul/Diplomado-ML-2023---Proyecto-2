{
 "cells": [
  {
   "cell_type": "code",
   "execution_count": 1,
   "metadata": {},
   "outputs": [],
   "source": [
    "from azure.ai.ml import load_component\n",
    "from azure.ai.ml.dsl import pipeline\n",
    "from azure.ai.ml import MLClient, Input\n",
    "from azure.identity import DefaultAzureCredential, EnvironmentCredential\n",
    "from azure.ai.ml.entities import AmlCompute\n",
    "from dotenv import load_dotenv\n",
    "from pathlib import Path\n",
    "import seaborn as sns\n",
    "import pandas as pd"
   ]
  },
  {
   "cell_type": "code",
   "execution_count": 2,
   "metadata": {},
   "outputs": [
    {
     "name": "stdout",
     "output_type": "stream",
     "text": [
      "Cargar username/pass desde archivo .env\n"
     ]
    },
    {
     "data": {
      "text/plain": [
       "True"
      ]
     },
     "execution_count": 2,
     "metadata": {},
     "output_type": "execute_result"
    }
   ],
   "source": [
    "print(\"Cargar username/pass desde archivo .env\")\n",
    "load_dotenv(\"env.txt\")"
   ]
  },
  {
   "cell_type": "code",
   "execution_count": 3,
   "metadata": {},
   "outputs": [],
   "source": [
    "def get_comput_target(ml_client, name=\"cpu-cluster\", family='Standard_DS2_v2'):\n",
    "    cpu_compute_target = name\n",
    "    \n",
    "    try:\n",
    "        # let's see if the compute target already exists\n",
    "        cpu_cluster = ml_client.compute.get(cpu_compute_target)\n",
    "    except Exception:\n",
    "        cpu_cluster = AmlCompute(\n",
    "            name=cpu_compute_target,\n",
    "            type=\"amlcompute\",\n",
    "            size=family,\n",
    "            min_instances=0,\n",
    "            max_instances=4,\n",
    "            idle_time_before_scale_down=180,\n",
    "            tier=\"Dedicated\",\n",
    "        )\n",
    "    \n",
    "        cpu_cluster = ml_client.compute.begin_create_or_update(cpu_cluster).result()"
   ]
  },
  {
   "cell_type": "code",
   "execution_count": 4,
   "metadata": {},
   "outputs": [
    {
     "name": "stderr",
     "output_type": "stream",
     "text": [
      "Found the config file in: .\\config.json\n"
     ]
    }
   ],
   "source": [
    "credential = DefaultAzureCredential()\n",
    "ml_client = MLClient.from_config(credential=credential)"
   ]
  },
  {
   "cell_type": "code",
   "execution_count": 5,
   "metadata": {},
   "outputs": [
    {
     "data": {
      "text/plain": [
       "AccessToken(token='eyJ0eXAiOiJKV1QiLCJhbGciOiJSUzI1NiIsIng1dCI6IjlHbW55RlBraGMzaE91UjIybXZTdmduTG83WSIsImtpZCI6IjlHbW55RlBraGMzaE91UjIybXZTdmduTG83WSJ9.eyJhdWQiOiJodHRwczovL21hbmFnZW1lbnQuYXp1cmUuY29tIiwiaXNzIjoiaHR0cHM6Ly9zdHMud2luZG93cy5uZXQvODRjYmMyMWItZmRmMy00MjcyLWFkMzQtZjRjMGZjZjcwZmExLyIsImlhdCI6MTY5OTQ3ODc1OCwibmJmIjoxNjk5NDc4NzU4LCJleHAiOjE2OTk0ODI2NTgsImFpbyI6IkUyVmdZRWhkbkJ2d1JFQXlacFh0elA4TDN6eGNCQUE9IiwiYXBwaWQiOiIwODg0MjVjNS01NDkxLTQyMWUtYmUyMy0wMmEyZjAwODc5MjciLCJhcHBpZGFjciI6IjEiLCJpZHAiOiJodHRwczovL3N0cy53aW5kb3dzLm5ldC84NGNiYzIxYi1mZGYzLTQyNzItYWQzNC1mNGMwZmNmNzBmYTEvIiwiaWR0eXAiOiJhcHAiLCJvaWQiOiJiODc2NDFkMy0yOTUwLTQwNzQtYTI2OS01YjI2ODhjNjczOTMiLCJyaCI6IjAuQWIwQUc4TExoUFA5Y2tLdE5QVEFfUGNQb1VaSWYza0F1dGRQdWtQYXdmajJNQlBMQUFBLiIsInN1YiI6ImI4NzY0MWQzLTI5NTAtNDA3NC1hMjY5LTViMjY4OGM2NzM5MyIsInRpZCI6Ijg0Y2JjMjFiLWZkZjMtNDI3Mi1hZDM0LWY0YzBmY2Y3MGZhMSIsInV0aSI6IlBNVHBhd3hBaVUtRjRwTXdzeTJ4QUEiLCJ2ZXIiOiIxLjAiLCJ4bXNfY2FlIjoiMSIsInhtc190Y2R0IjoxNjk1MjU5MzQxfQ.RmFDS8KvZNGG6TQ3-0ytlDYppKgA7_69PoQH9HB7-qAFjZOrMqhfM3FR_ifYbMCMxKwtDCLqpOg9mQbYgmSF7kUkg04avORPaLedXuY1yTHofyy9CZRk7nuKpKAajjJbqBSzH5uo0NVLrJ_wq9siFA-eAS-MMPo4WBGKgsY_BRwgpV3uUmmUscXfo0is1r7LHjyqs2kolLiUubmGB6yaoCTpUQHQkT0wLgv17CpP3JbLSuisCIvFBz-zoRLgZ8n1mXqwjIU56Uy3vfRDycnLqud81H9FUaxwBsWQTxIU2cOeqqS0sbVMYj3KdymbTiJrRIeOit7YvYNikubomgUxjg', expires_on=1699482655)"
      ]
     },
     "execution_count": 5,
     "metadata": {},
     "output_type": "execute_result"
    }
   ],
   "source": [
    "credential.get_token(\"https://management.azure.com/.default\")"
   ]
  },
  {
   "cell_type": "code",
   "execution_count": 6,
   "metadata": {},
   "outputs": [],
   "source": [
    "compute_target = get_comput_target(ml_client)"
   ]
  },
  {
   "cell_type": "code",
   "execution_count": 11,
   "metadata": {},
   "outputs": [
    {
     "data": {
      "text/plain": [
       "Environment({'intellectual_property': None, 'is_anonymous': False, 'auto_increment_version': False, 'auto_delete_setting': None, 'name': 'custom-env', 'description': 'Environment created from a Docker image plus Conda environment.', 'tags': {}, 'properties': {'azureml.labels': 'latest'}, 'print_as_yaml': True, 'id': '/subscriptions/df5b1289-646f-4999-a2a8-7eec46d13e15/resourceGroups/Azure-ML/providers/Microsoft.MachineLearningServices/workspaces/Azureml/environments/custom-env/versions/1', 'Resource__source_path': None, 'base_path': 'c:\\\\Users\\\\Y540\\\\Documents\\\\Diplomado ML\\\\Modulo 4\\\\Diplomado-ML-2023---Proyecto-2', 'creation_context': <azure.ai.ml.entities._system_data.SystemData object at 0x0000025923FBF820>, 'serialize': <msrest.serialization.Serializer object at 0x0000025923FBFE50>, 'version': '1', 'latest_version': None, 'conda_file': {'channels': ['anaconda', 'conda-forge', 'https://conda.anaconda.org/microsoft', 'defaults'], 'dependencies': ['aiofiles=22.1.0=py310haa95532_0', 'aiohttp=3.8.1=py310he2412df_1', 'aiosignal=1.3.1=pyhd8ed1ab_0', 'aiosqlite=0.18.0=py310haa95532_0', 'anyio=3.5.0=py310haa95532_0', 'argon2-cffi=21.3.0=pyhd3eb1b0_0', 'argon2-cffi-bindings=21.2.0=py310h2bbff1b_0', 'asttokens=2.0.5=pyhd3eb1b0_0', 'async-timeout=4.0.3=pyhd8ed1ab_0', 'attrs=23.1.0=py310haa95532_0', 'azure-ai-ml=1.11.1=pyhd8ed1ab_0', 'azure-common=1.1.28=pyhd8ed1ab_0', 'azure-core=1.29.5=pyhd8ed1ab_0', 'azure-identity=1.15.0=pyhd8ed1ab_0', 'azure-mgmt-core=1.4.0=pyhd8ed1ab_0', 'azure-storage-blob=12.18.3=pyhd8ed1ab_0', 'azure-storage-file-datalake=12.13.2=pyhd8ed1ab_0', 'azure-storage-file-share=12.10.1=pyhd8ed1ab_0', 'babel=2.11.0=py310haa95532_0', 'backcall=0.2.0=pyhd3eb1b0_0', 'beautifulsoup4=4.12.2=py310haa95532_0', 'blas=1.0=mkl', 'bleach=4.1.0=pyhd3eb1b0_0', 'blinker=1.6.3=pyhd8ed1ab_0', 'bottleneck=1.3.5=py310h9128911_0', 'brotli=1.0.9=h2bbff1b_7', 'brotli-bin=1.0.9=h2bbff1b_7', 'brotli-python=1.0.9=py310hd77b12b_7', 'bzip2=1.0.8=he774522_0', 'ca-certificates=2023.7.22=h56e8100_0', 'cachetools=5.3.2=pyhd8ed1ab_0', 'catalogue=2.0.7=py310haa95532_0', 'certifi=2023.7.22=pyhd8ed1ab_0', 'cffi=1.15.1=py310h2bbff1b_3', 'charset-normalizer=2.0.4=pyhd3eb1b0_0', 'click=8.1.7=py310haa95532_0', 'cloudpathlib=0.16.0=pyhd8ed1ab_0', 'colorama=0.4.6=py310haa95532_0', 'comm=0.1.2=py310haa95532_0', 'confection=0.0.4=py310h9909e9c_0', 'contourpy=1.0.5=py310h59b6b97_0', 'cryptography=41.0.3=py310h89fc84f_0', 'cycler=0.11.0=pyhd3eb1b0_0', 'cymem=2.0.6=py310hd77b12b_0', 'cython-blis=0.7.9=py310h9128911_0', 'debugpy=1.6.7=py310hd77b12b_0', 'decorator=5.1.1=pyhd3eb1b0_0', 'defusedxml=0.7.1=pyhd3eb1b0_0', 'entrypoints=0.4=py310haa95532_0', 'exceptiongroup=1.0.4=py310haa95532_0', 'executing=0.8.3=pyhd3eb1b0_0', 'fonttools=4.25.0=pyhd3eb1b0_0', 'freetype=2.12.1=ha860e81_0', 'frozenlist=1.4.0=py310h8d17308_1', 'giflib=5.2.1=h8cc25b3_3', 'glib=2.69.1=h5dc1a3c_2', 'google-api-core=2.12.0=pyhd8ed1ab_0', 'google-auth=2.23.4=pyhca7485f_0', 'googleapis-common-protos=1.61.0=pyhd8ed1ab_0', 'icc_rt=2022.1.0=h6049295_2', 'icu=58.2=ha925a31_3', 'idna=3.4=py310haa95532_0', 'importlib-metadata=6.8.0=pyha770c72_0', 'intel-openmp=2023.1.0=h59b6b97_46319', 'ipykernel=6.25.0=py310h9909e9c_0', 'ipython=8.15.0=py310haa95532_0', 'ipython_genutils=0.2.0=pyhd3eb1b0_1', 'ipywidgets=8.0.4=py310haa95532_0', 'isodate=0.6.1=pyhd8ed1ab_0', 'jedi=0.18.1=py310haa95532_1', 'jinja2=3.1.2=py310haa95532_0', 'joblib=1.2.0=py310haa95532_0', 'jpeg=9e=h2bbff1b_1', 'json5=0.9.6=pyhd3eb1b0_0', 'jsonschema=4.17.3=py310haa95532_0', 'jupyter=1.0.0=py310haa95532_8', 'jupyter_client=7.4.9=py310haa95532_0', 'jupyter_console=6.6.3=py310haa95532_0', 'jupyter_core=5.3.0=py310haa95532_0', 'jupyter_events=0.6.3=py310haa95532_0', 'jupyter_server=1.23.4=py310haa95532_0', 'jupyter_server_fileid=0.9.0=py310haa95532_0', 'jupyter_server_ydoc=0.8.0=py310haa95532_1', 'jupyter_ydoc=0.2.4=py310haa95532_0', 'jupyterlab=3.6.3=py310haa95532_0', 'jupyterlab_pygments=0.1.2=py_0', 'jupyterlab_server=2.22.0=py310haa95532_0', 'jupyterlab_widgets=3.0.5=py310haa95532_0', 'kiwisolver=1.4.4=py310hd77b12b_0', 'krb5=1.20.1=h5b6d351_0', 'langcodes=3.3.0=pyhd3eb1b0_0', 'lerc=3.0=hd77b12b_0', 'libbrotlicommon=1.0.9=h2bbff1b_7', 'libbrotlidec=1.0.9=h2bbff1b_7', 'libbrotlienc=1.0.9=h2bbff1b_7', 'libclang=14.0.6=default_hb5a9fac_1', 'libclang13=14.0.6=default_h8e68704_1', 'libdeflate=1.17=h2bbff1b_1', 'libffi=3.4.4=hd77b12b_0', 'libiconv=1.16=h2bbff1b_2', 'libpng=1.6.39=h8cc25b3_0', 'libpq=12.15=h906ac69_1', 'libprotobuf=3.20.3=h23ce68f_0', 'libsodium=1.0.18=h62dcd97_0', 'libtiff=4.5.1=hd77b12b_0', 'libwebp=1.3.2=hbc33d0d_0', 'libwebp-base=1.3.2=h2bbff1b_0', 'libxml2=2.10.4=h0ad7f3c_1', 'libxslt=1.1.37=h2bbff1b_1', 'lxml=4.9.3=py310h09808a7_0', 'lz4-c=1.9.4=h2bbff1b_0', 'markupsafe=2.1.1=py310h2bbff1b_0', 'marshmallow=3.20.1=pyhd8ed1ab_0', 'matplotlib=3.8.0=py310haa95532_0', 'matplotlib-base=3.8.0=py310h4ed8f06_0', 'matplotlib-inline=0.1.6=py310haa95532_0', 'mistune=0.8.4=py310h2bbff1b_1000', 'mkl=2023.1.0=h6b88ed4_46357', 'mkl-service=2.4.0=py310h2bbff1b_1', 'mkl_fft=1.3.8=py310h2bbff1b_0', 'mkl_random=1.2.4=py310h59b6b97_0', 'msal=1.24.1=pyhd8ed1ab_0', 'msal_extensions=1.0.0=pyhd8ed1ab_0', 'msrest=0.7.1=pyhd8ed1ab_0', 'multidict=6.0.4=py310h8d17308_1', 'munkres=1.1.4=py_0', 'murmurhash=1.0.7=py310hd77b12b_0', 'nbclassic=0.5.5=py310haa95532_0', 'nbclient=0.5.13=py310haa95532_0', 'nbconvert=6.5.4=py310haa95532_0', 'nbformat=5.9.2=py310haa95532_0', 'nest-asyncio=1.5.6=py310haa95532_0', 'notebook=6.5.4=py310haa95532_1', 'notebook-shim=0.2.2=py310haa95532_0', 'numexpr=2.8.7=py310h2cd9be0_0', 'oauthlib=3.2.2=pyhd8ed1ab_0', 'opencensus=0.11.3=pyhd8ed1ab_0', 'opencensus-context=0.1.3=py310h5588dad_2', 'opencensus-ext-azure=1.1.11=pyhd8ed1ab_0', 'openjpeg=2.4.0=h4fc8c34_0', 'openssl=3.1.4=hcfcfb64_0', 'pandas=2.1.1=py310h4ed8f06_0', 'pandocfilters=1.5.0=pyhd3eb1b0_0', 'parso=0.8.3=pyhd3eb1b0_0', 'pathy=0.10.1=py310haa95532_0', 'pcre=8.45=hd77b12b_0', 'pickleshare=0.7.5=pyhd3eb1b0_1003', 'pillow=10.0.1=py310h045eedc_0', 'pip=23.3=py310haa95532_0', 'platformdirs=3.10.0=py310haa95532_0', 'ply=3.11=py310haa95532_0', 'portalocker=2.3.0=py310haa95532_1', 'preshed=3.0.6=py310h6c2663c_0', 'prometheus_client=0.14.1=py310haa95532_0', 'prompt-toolkit=3.0.36=py310haa95532_0', 'prompt_toolkit=3.0.36=hd3eb1b0_0', 'protobuf=3.20.3=py310h5588dad_1', 'psutil=5.9.0=py310h2bbff1b_0', 'pure_eval=0.2.2=pyhd3eb1b0_0', 'pyasn1=0.5.0=pyhd8ed1ab_0', 'pyasn1-modules=0.3.0=pyhd8ed1ab_0', 'pycparser=2.21=pyhd3eb1b0_0', 'pydantic=1.10.12=py310h2bbff1b_1', 'pydash=7.0.5=pyh1a96a4e_0', 'pygments=2.15.1=py310haa95532_1', 'pyjwt=2.4.0=py310haa95532_0', 'pyopenssl=23.2.0=py310haa95532_0', 'pyparsing=3.0.9=py310haa95532_0', 'pyqt=5.15.7=py310hd77b12b_0', 'pyqt5-sip=12.11.0=py310hd77b12b_0', 'pyrsistent=0.18.0=py310h2bbff1b_0', 'pysocks=1.7.1=py310haa95532_0', 'python=3.10.13=he1021f5_0', 'python-dateutil=2.8.2=pyhd3eb1b0_0', 'python-dotenv=0.21.0=py310haa95532_0', 'python-fastjsonschema=2.16.2=py310haa95532_0', 'python-json-logger=2.0.7=py310haa95532_0', 'python-tzdata=2023.3=pyhd3eb1b0_0', 'python_abi=3.10=2_cp310', 'pytz=2023.3.post1=py310haa95532_0', 'pyu2f=0.1.5=pyhd8ed1ab_0', 'pywin32=305=py310h2bbff1b_0', 'pywinpty=2.0.10=py310h5da7b33_0', 'pyyaml=6.0.1=py310h2bbff1b_0', 'pyzmq=23.2.0=py310hd77b12b_0', 'qt-main=5.15.2=h879a1e9_9', 'qt-webengine=5.15.9=h5bd16bc_7', 'qtconsole=5.4.2=py310haa95532_0', 'qtpy=2.2.0=py310haa95532_0', 'qtwebkit=5.212=h2bbfb41_5', 'requests=2.31.0=py310haa95532_0', 'requests-oauthlib=1.3.1=pyhd8ed1ab_0', 'rfc3339-validator=0.1.4=py310haa95532_0', 'rfc3986-validator=0.1.1=py310haa95532_0', 'rsa=4.9=pyhd8ed1ab_0', 'ruamel.yaml=0.18.4=py310h8d17308_0', 'ruamel.yaml.clib=0.2.7=py310h8d17308_2', 'scipy=1.11.3=py310h309d312_0', 'seaborn=0.12.2=py310haa95532_0', 'send2trash=1.8.0=pyhd3eb1b0_1', 'setuptools=68.0.0=py310haa95532_0', 'shellingham=1.5.0=py310haa95532_0', 'sip=6.6.2=py310hd77b12b_0', 'six=1.16.0=pyhd3eb1b0_1', 'smart_open=5.2.1=py310haa95532_0', 'sniffio=1.2.0=py310haa95532_1', 'soupsieve=2.5=py310haa95532_0', 'spacy=3.7.1=py310h4856b71_1', 'spacy-legacy=3.0.12=py310haa95532_0', 'spacy-loggers=1.0.4=py310haa95532_0', 'sqlite=3.41.2=h2bbff1b_0', 'srsly=2.4.8=py310hd77b12b_0', 'stack_data=0.2.0=pyhd3eb1b0_0', 'strictyaml=1.7.3=pyhd8ed1ab_0', 'tbb=2021.8.0=h59b6b97_0', 'terminado=0.17.1=py310haa95532_0', 'thinc=8.1.10=py310hf497b98_0', 'threadpoolctl=2.2.0=pyh0d69192_0', 'tinycss2=1.2.1=py310haa95532_0', 'tk=8.6.12=h2bbff1b_0', 'toml=0.10.2=pyhd3eb1b0_0', 'tomli=2.0.1=py310haa95532_0', 'tornado=6.3.3=py310h2bbff1b_0', 'tqdm=4.66.1=pyhd8ed1ab_0', 'traitlets=5.7.1=py310haa95532_0', 'typer=0.4.1=py310haa95532_0', 'typing-extensions=4.7.1=py310haa95532_0', 'typing_extensions=4.7.1=py310haa95532_0', 'tzdata=2023c=h04d1e81_0', 'ucrt=10.0.22621.0=h57928b3_0', 'urllib3=1.26.18=py310haa95532_0', 'vc=14.2=h21ff451_1', 'vc14_runtime=14.36.32532=hdcecf7f_17', 'vs2015_runtime=14.36.32532=h05e6639_17', 'wasabi=0.9.1=py310haa95532_0', 'wcwidth=0.2.5=pyhd3eb1b0_0', 'weasel=0.3.3=pyhd8ed1ab_0', 'webencodings=0.5.1=py310haa95532_1', 'websocket-client=0.58.0=py310haa95532_4', 'wheel=0.41.2=py310haa95532_0', 'widgetsnbextension=4.0.5=py310haa95532_0', 'win_inet_pton=1.1.0=py310haa95532_0', 'winpty=0.4.3=4', 'xz=5.4.2=h8cc25b3_0', 'y-py=0.5.9=py310hb6bf4ef_0', 'yaml=0.2.5=he774522_0', 'yarl=1.9.2=py310h8d17308_1', 'ypy-websocket=0.8.2=py310haa95532_0', 'zeromq=4.3.4=hd77b12b_0', 'zipp=3.17.0=pyhd8ed1ab_0', 'zlib=1.2.13=h8cc25b3_0', 'zstd=1.5.5=hd43e919_0', {'pip': ['adal==1.2.7', 'applicationinsights==0.11.10', 'argcomplete==2.1.2', 'azure-graphrbac==0.61.1', 'azure-mgmt-authorization==3.0.0', 'azure-mgmt-containerregistry==10.2.0', 'azure-mgmt-keyvault==10.3.0', 'azure-mgmt-network==21.0.1', 'azure-mgmt-resource==22.0.0', 'azure-mgmt-storage==21.0.0', 'azureml-automl-core==1.53.2', 'azureml-core==1.53.0', 'azureml-dataprep==4.12.7', 'azureml-dataprep-native==38.0.0', 'azureml-dataprep-rslex==2.19.6', 'azureml-dataset-runtime==1.53.0', 'azureml-pipeline==1.53.0', 'azureml-pipeline-core==1.53.0', 'azureml-pipeline-steps==1.53.0', 'azureml-sdk==1.53.0', 'azureml-telemetry==1.53.0', 'azureml-train-automl-client==1.53.2', 'azureml-train-core==1.53.0', 'azureml-train-restclients-hyperdrive==1.53.0', 'backports-tempfile==1.0', 'backports-weakref==1.0.post1', 'bcrypt==4.0.1', 'cloudpickle==2.2.1', 'contextlib2==21.6.0', 'distro==1.8.0', 'docker==6.1.3', 'dotnetcore2==3.1.23', 'en-core-web-lg==3.7.0', 'es-core-news-sm==3.7.0', 'fusepy==3.0.1', 'humanfriendly==10.0', 'jeepney==0.8.0', 'jmespath==1.0.1', 'jsonpickle==3.0.2', 'knack==0.10.1', 'msrestazure==0.6.4', 'ndg-httpsclient==0.5.1', 'numpy==1.23.5', 'packaging==23.0', 'paramiko==3.3.1', 'pathspec==0.11.2', 'pkginfo==1.9.6', 'pyarrow==11.0.0', 'pynacl==1.5.0', 'pyreadline3==3.4.1', 'scikit-learn==1.3.2', 'secretstorage==3.3.3', 'tabulate==0.9.0']}], 'name': 'ML-Azure'}, 'image': 'mcr.microsoft.com/azureml/openmpi3.1.2-ubuntu18.04', 'build': None, 'inference_config': None, 'os_type': 'Linux', 'arm_type': 'environment_version', 'conda_file_path': None, 'path': None, 'datastore': None, 'upload_hash': None, 'translated_conda_file': '{\\n  \"channels\": [\\n    \"anaconda\",\\n    \"conda-forge\",\\n    \"https://conda.anaconda.org/microsoft\",\\n    \"defaults\"\\n  ],\\n  \"dependencies\": [\\n    \"aiofiles=22.1.0=py310haa95532_0\",\\n    \"aiohttp=3.8.1=py310he2412df_1\",\\n    \"aiosignal=1.3.1=pyhd8ed1ab_0\",\\n    \"aiosqlite=0.18.0=py310haa95532_0\",\\n    \"anyio=3.5.0=py310haa95532_0\",\\n    \"argon2-cffi=21.3.0=pyhd3eb1b0_0\",\\n    \"argon2-cffi-bindings=21.2.0=py310h2bbff1b_0\",\\n    \"asttokens=2.0.5=pyhd3eb1b0_0\",\\n    \"async-timeout=4.0.3=pyhd8ed1ab_0\",\\n    \"attrs=23.1.0=py310haa95532_0\",\\n    \"azure-ai-ml=1.11.1=pyhd8ed1ab_0\",\\n    \"azure-common=1.1.28=pyhd8ed1ab_0\",\\n    \"azure-core=1.29.5=pyhd8ed1ab_0\",\\n    \"azure-identity=1.15.0=pyhd8ed1ab_0\",\\n    \"azure-mgmt-core=1.4.0=pyhd8ed1ab_0\",\\n    \"azure-storage-blob=12.18.3=pyhd8ed1ab_0\",\\n    \"azure-storage-file-datalake=12.13.2=pyhd8ed1ab_0\",\\n    \"azure-storage-file-share=12.10.1=pyhd8ed1ab_0\",\\n    \"babel=2.11.0=py310haa95532_0\",\\n    \"backcall=0.2.0=pyhd3eb1b0_0\",\\n    \"beautifulsoup4=4.12.2=py310haa95532_0\",\\n    \"blas=1.0=mkl\",\\n    \"bleach=4.1.0=pyhd3eb1b0_0\",\\n    \"blinker=1.6.3=pyhd8ed1ab_0\",\\n    \"bottleneck=1.3.5=py310h9128911_0\",\\n    \"brotli=1.0.9=h2bbff1b_7\",\\n    \"brotli-bin=1.0.9=h2bbff1b_7\",\\n    \"brotli-python=1.0.9=py310hd77b12b_7\",\\n    \"bzip2=1.0.8=he774522_0\",\\n    \"ca-certificates=2023.7.22=h56e8100_0\",\\n    \"cachetools=5.3.2=pyhd8ed1ab_0\",\\n    \"catalogue=2.0.7=py310haa95532_0\",\\n    \"certifi=2023.7.22=pyhd8ed1ab_0\",\\n    \"cffi=1.15.1=py310h2bbff1b_3\",\\n    \"charset-normalizer=2.0.4=pyhd3eb1b0_0\",\\n    \"click=8.1.7=py310haa95532_0\",\\n    \"cloudpathlib=0.16.0=pyhd8ed1ab_0\",\\n    \"colorama=0.4.6=py310haa95532_0\",\\n    \"comm=0.1.2=py310haa95532_0\",\\n    \"confection=0.0.4=py310h9909e9c_0\",\\n    \"contourpy=1.0.5=py310h59b6b97_0\",\\n    \"cryptography=41.0.3=py310h89fc84f_0\",\\n    \"cycler=0.11.0=pyhd3eb1b0_0\",\\n    \"cymem=2.0.6=py310hd77b12b_0\",\\n    \"cython-blis=0.7.9=py310h9128911_0\",\\n    \"debugpy=1.6.7=py310hd77b12b_0\",\\n    \"decorator=5.1.1=pyhd3eb1b0_0\",\\n    \"defusedxml=0.7.1=pyhd3eb1b0_0\",\\n    \"entrypoints=0.4=py310haa95532_0\",\\n    \"exceptiongroup=1.0.4=py310haa95532_0\",\\n    \"executing=0.8.3=pyhd3eb1b0_0\",\\n    \"fonttools=4.25.0=pyhd3eb1b0_0\",\\n    \"freetype=2.12.1=ha860e81_0\",\\n    \"frozenlist=1.4.0=py310h8d17308_1\",\\n    \"giflib=5.2.1=h8cc25b3_3\",\\n    \"glib=2.69.1=h5dc1a3c_2\",\\n    \"google-api-core=2.12.0=pyhd8ed1ab_0\",\\n    \"google-auth=2.23.4=pyhca7485f_0\",\\n    \"googleapis-common-protos=1.61.0=pyhd8ed1ab_0\",\\n    \"icc_rt=2022.1.0=h6049295_2\",\\n    \"icu=58.2=ha925a31_3\",\\n    \"idna=3.4=py310haa95532_0\",\\n    \"importlib-metadata=6.8.0=pyha770c72_0\",\\n    \"intel-openmp=2023.1.0=h59b6b97_46319\",\\n    \"ipykernel=6.25.0=py310h9909e9c_0\",\\n    \"ipython=8.15.0=py310haa95532_0\",\\n    \"ipython_genutils=0.2.0=pyhd3eb1b0_1\",\\n    \"ipywidgets=8.0.4=py310haa95532_0\",\\n    \"isodate=0.6.1=pyhd8ed1ab_0\",\\n    \"jedi=0.18.1=py310haa95532_1\",\\n    \"jinja2=3.1.2=py310haa95532_0\",\\n    \"joblib=1.2.0=py310haa95532_0\",\\n    \"jpeg=9e=h2bbff1b_1\",\\n    \"json5=0.9.6=pyhd3eb1b0_0\",\\n    \"jsonschema=4.17.3=py310haa95532_0\",\\n    \"jupyter=1.0.0=py310haa95532_8\",\\n    \"jupyter_client=7.4.9=py310haa95532_0\",\\n    \"jupyter_console=6.6.3=py310haa95532_0\",\\n    \"jupyter_core=5.3.0=py310haa95532_0\",\\n    \"jupyter_events=0.6.3=py310haa95532_0\",\\n    \"jupyter_server=1.23.4=py310haa95532_0\",\\n    \"jupyter_server_fileid=0.9.0=py310haa95532_0\",\\n    \"jupyter_server_ydoc=0.8.0=py310haa95532_1\",\\n    \"jupyter_ydoc=0.2.4=py310haa95532_0\",\\n    \"jupyterlab=3.6.3=py310haa95532_0\",\\n    \"jupyterlab_pygments=0.1.2=py_0\",\\n    \"jupyterlab_server=2.22.0=py310haa95532_0\",\\n    \"jupyterlab_widgets=3.0.5=py310haa95532_0\",\\n    \"kiwisolver=1.4.4=py310hd77b12b_0\",\\n    \"krb5=1.20.1=h5b6d351_0\",\\n    \"langcodes=3.3.0=pyhd3eb1b0_0\",\\n    \"lerc=3.0=hd77b12b_0\",\\n    \"libbrotlicommon=1.0.9=h2bbff1b_7\",\\n    \"libbrotlidec=1.0.9=h2bbff1b_7\",\\n    \"libbrotlienc=1.0.9=h2bbff1b_7\",\\n    \"libclang=14.0.6=default_hb5a9fac_1\",\\n    \"libclang13=14.0.6=default_h8e68704_1\",\\n    \"libdeflate=1.17=h2bbff1b_1\",\\n    \"libffi=3.4.4=hd77b12b_0\",\\n    \"libiconv=1.16=h2bbff1b_2\",\\n    \"libpng=1.6.39=h8cc25b3_0\",\\n    \"libpq=12.15=h906ac69_1\",\\n    \"libprotobuf=3.20.3=h23ce68f_0\",\\n    \"libsodium=1.0.18=h62dcd97_0\",\\n    \"libtiff=4.5.1=hd77b12b_0\",\\n    \"libwebp=1.3.2=hbc33d0d_0\",\\n    \"libwebp-base=1.3.2=h2bbff1b_0\",\\n    \"libxml2=2.10.4=h0ad7f3c_1\",\\n    \"libxslt=1.1.37=h2bbff1b_1\",\\n    \"lxml=4.9.3=py310h09808a7_0\",\\n    \"lz4-c=1.9.4=h2bbff1b_0\",\\n    \"markupsafe=2.1.1=py310h2bbff1b_0\",\\n    \"marshmallow=3.20.1=pyhd8ed1ab_0\",\\n    \"matplotlib=3.8.0=py310haa95532_0\",\\n    \"matplotlib-base=3.8.0=py310h4ed8f06_0\",\\n    \"matplotlib-inline=0.1.6=py310haa95532_0\",\\n    \"mistune=0.8.4=py310h2bbff1b_1000\",\\n    \"mkl=2023.1.0=h6b88ed4_46357\",\\n    \"mkl-service=2.4.0=py310h2bbff1b_1\",\\n    \"mkl_fft=1.3.8=py310h2bbff1b_0\",\\n    \"mkl_random=1.2.4=py310h59b6b97_0\",\\n    \"msal=1.24.1=pyhd8ed1ab_0\",\\n    \"msal_extensions=1.0.0=pyhd8ed1ab_0\",\\n    \"msrest=0.7.1=pyhd8ed1ab_0\",\\n    \"multidict=6.0.4=py310h8d17308_1\",\\n    \"munkres=1.1.4=py_0\",\\n    \"murmurhash=1.0.7=py310hd77b12b_0\",\\n    \"nbclassic=0.5.5=py310haa95532_0\",\\n    \"nbclient=0.5.13=py310haa95532_0\",\\n    \"nbconvert=6.5.4=py310haa95532_0\",\\n    \"nbformat=5.9.2=py310haa95532_0\",\\n    \"nest-asyncio=1.5.6=py310haa95532_0\",\\n    \"notebook=6.5.4=py310haa95532_1\",\\n    \"notebook-shim=0.2.2=py310haa95532_0\",\\n    \"numexpr=2.8.7=py310h2cd9be0_0\",\\n    \"oauthlib=3.2.2=pyhd8ed1ab_0\",\\n    \"opencensus=0.11.3=pyhd8ed1ab_0\",\\n    \"opencensus-context=0.1.3=py310h5588dad_2\",\\n    \"opencensus-ext-azure=1.1.11=pyhd8ed1ab_0\",\\n    \"openjpeg=2.4.0=h4fc8c34_0\",\\n    \"openssl=3.1.4=hcfcfb64_0\",\\n    \"pandas=2.1.1=py310h4ed8f06_0\",\\n    \"pandocfilters=1.5.0=pyhd3eb1b0_0\",\\n    \"parso=0.8.3=pyhd3eb1b0_0\",\\n    \"pathy=0.10.1=py310haa95532_0\",\\n    \"pcre=8.45=hd77b12b_0\",\\n    \"pickleshare=0.7.5=pyhd3eb1b0_1003\",\\n    \"pillow=10.0.1=py310h045eedc_0\",\\n    \"pip=23.3=py310haa95532_0\",\\n    \"platformdirs=3.10.0=py310haa95532_0\",\\n    \"ply=3.11=py310haa95532_0\",\\n    \"portalocker=2.3.0=py310haa95532_1\",\\n    \"preshed=3.0.6=py310h6c2663c_0\",\\n    \"prometheus_client=0.14.1=py310haa95532_0\",\\n    \"prompt-toolkit=3.0.36=py310haa95532_0\",\\n    \"prompt_toolkit=3.0.36=hd3eb1b0_0\",\\n    \"protobuf=3.20.3=py310h5588dad_1\",\\n    \"psutil=5.9.0=py310h2bbff1b_0\",\\n    \"pure_eval=0.2.2=pyhd3eb1b0_0\",\\n    \"pyasn1=0.5.0=pyhd8ed1ab_0\",\\n    \"pyasn1-modules=0.3.0=pyhd8ed1ab_0\",\\n    \"pycparser=2.21=pyhd3eb1b0_0\",\\n    \"pydantic=1.10.12=py310h2bbff1b_1\",\\n    \"pydash=7.0.5=pyh1a96a4e_0\",\\n    \"pygments=2.15.1=py310haa95532_1\",\\n    \"pyjwt=2.4.0=py310haa95532_0\",\\n    \"pyopenssl=23.2.0=py310haa95532_0\",\\n    \"pyparsing=3.0.9=py310haa95532_0\",\\n    \"pyqt=5.15.7=py310hd77b12b_0\",\\n    \"pyqt5-sip=12.11.0=py310hd77b12b_0\",\\n    \"pyrsistent=0.18.0=py310h2bbff1b_0\",\\n    \"pysocks=1.7.1=py310haa95532_0\",\\n    \"python=3.10.13=he1021f5_0\",\\n    \"python-dateutil=2.8.2=pyhd3eb1b0_0\",\\n    \"python-dotenv=0.21.0=py310haa95532_0\",\\n    \"python-fastjsonschema=2.16.2=py310haa95532_0\",\\n    \"python-json-logger=2.0.7=py310haa95532_0\",\\n    \"python-tzdata=2023.3=pyhd3eb1b0_0\",\\n    \"python_abi=3.10=2_cp310\",\\n    \"pytz=2023.3.post1=py310haa95532_0\",\\n    \"pyu2f=0.1.5=pyhd8ed1ab_0\",\\n    \"pywin32=305=py310h2bbff1b_0\",\\n    \"pywinpty=2.0.10=py310h5da7b33_0\",\\n    \"pyyaml=6.0.1=py310h2bbff1b_0\",\\n    \"pyzmq=23.2.0=py310hd77b12b_0\",\\n    \"qt-main=5.15.2=h879a1e9_9\",\\n    \"qt-webengine=5.15.9=h5bd16bc_7\",\\n    \"qtconsole=5.4.2=py310haa95532_0\",\\n    \"qtpy=2.2.0=py310haa95532_0\",\\n    \"qtwebkit=5.212=h2bbfb41_5\",\\n    \"requests=2.31.0=py310haa95532_0\",\\n    \"requests-oauthlib=1.3.1=pyhd8ed1ab_0\",\\n    \"rfc3339-validator=0.1.4=py310haa95532_0\",\\n    \"rfc3986-validator=0.1.1=py310haa95532_0\",\\n    \"rsa=4.9=pyhd8ed1ab_0\",\\n    \"ruamel.yaml=0.18.4=py310h8d17308_0\",\\n    \"ruamel.yaml.clib=0.2.7=py310h8d17308_2\",\\n    \"scipy=1.11.3=py310h309d312_0\",\\n    \"seaborn=0.12.2=py310haa95532_0\",\\n    \"send2trash=1.8.0=pyhd3eb1b0_1\",\\n    \"setuptools=68.0.0=py310haa95532_0\",\\n    \"shellingham=1.5.0=py310haa95532_0\",\\n    \"sip=6.6.2=py310hd77b12b_0\",\\n    \"six=1.16.0=pyhd3eb1b0_1\",\\n    \"smart_open=5.2.1=py310haa95532_0\",\\n    \"sniffio=1.2.0=py310haa95532_1\",\\n    \"soupsieve=2.5=py310haa95532_0\",\\n    \"spacy=3.7.1=py310h4856b71_1\",\\n    \"spacy-legacy=3.0.12=py310haa95532_0\",\\n    \"spacy-loggers=1.0.4=py310haa95532_0\",\\n    \"sqlite=3.41.2=h2bbff1b_0\",\\n    \"srsly=2.4.8=py310hd77b12b_0\",\\n    \"stack_data=0.2.0=pyhd3eb1b0_0\",\\n    \"strictyaml=1.7.3=pyhd8ed1ab_0\",\\n    \"tbb=2021.8.0=h59b6b97_0\",\\n    \"terminado=0.17.1=py310haa95532_0\",\\n    \"thinc=8.1.10=py310hf497b98_0\",\\n    \"threadpoolctl=2.2.0=pyh0d69192_0\",\\n    \"tinycss2=1.2.1=py310haa95532_0\",\\n    \"tk=8.6.12=h2bbff1b_0\",\\n    \"toml=0.10.2=pyhd3eb1b0_0\",\\n    \"tomli=2.0.1=py310haa95532_0\",\\n    \"tornado=6.3.3=py310h2bbff1b_0\",\\n    \"tqdm=4.66.1=pyhd8ed1ab_0\",\\n    \"traitlets=5.7.1=py310haa95532_0\",\\n    \"typer=0.4.1=py310haa95532_0\",\\n    \"typing-extensions=4.7.1=py310haa95532_0\",\\n    \"typing_extensions=4.7.1=py310haa95532_0\",\\n    \"tzdata=2023c=h04d1e81_0\",\\n    \"ucrt=10.0.22621.0=h57928b3_0\",\\n    \"urllib3=1.26.18=py310haa95532_0\",\\n    \"vc=14.2=h21ff451_1\",\\n    \"vc14_runtime=14.36.32532=hdcecf7f_17\",\\n    \"vs2015_runtime=14.36.32532=h05e6639_17\",\\n    \"wasabi=0.9.1=py310haa95532_0\",\\n    \"wcwidth=0.2.5=pyhd3eb1b0_0\",\\n    \"weasel=0.3.3=pyhd8ed1ab_0\",\\n    \"webencodings=0.5.1=py310haa95532_1\",\\n    \"websocket-client=0.58.0=py310haa95532_4\",\\n    \"wheel=0.41.2=py310haa95532_0\",\\n    \"widgetsnbextension=4.0.5=py310haa95532_0\",\\n    \"win_inet_pton=1.1.0=py310haa95532_0\",\\n    \"winpty=0.4.3=4\",\\n    \"xz=5.4.2=h8cc25b3_0\",\\n    \"y-py=0.5.9=py310hb6bf4ef_0\",\\n    \"yaml=0.2.5=he774522_0\",\\n    \"yarl=1.9.2=py310h8d17308_1\",\\n    \"ypy-websocket=0.8.2=py310haa95532_0\",\\n    \"zeromq=4.3.4=hd77b12b_0\",\\n    \"zipp=3.17.0=pyhd8ed1ab_0\",\\n    \"zlib=1.2.13=h8cc25b3_0\",\\n    \"zstd=1.5.5=hd43e919_0\",\\n    {\\n      \"pip\": [\\n        \"adal==1.2.7\",\\n        \"applicationinsights==0.11.10\",\\n        \"argcomplete==2.1.2\",\\n        \"azure-graphrbac==0.61.1\",\\n        \"azure-mgmt-authorization==3.0.0\",\\n        \"azure-mgmt-containerregistry==10.2.0\",\\n        \"azure-mgmt-keyvault==10.3.0\",\\n        \"azure-mgmt-network==21.0.1\",\\n        \"azure-mgmt-resource==22.0.0\",\\n        \"azure-mgmt-storage==21.0.0\",\\n        \"azureml-automl-core==1.53.2\",\\n        \"azureml-core==1.53.0\",\\n        \"azureml-dataprep==4.12.7\",\\n        \"azureml-dataprep-native==38.0.0\",\\n        \"azureml-dataprep-rslex==2.19.6\",\\n        \"azureml-dataset-runtime==1.53.0\",\\n        \"azureml-pipeline==1.53.0\",\\n        \"azureml-pipeline-core==1.53.0\",\\n        \"azureml-pipeline-steps==1.53.0\",\\n        \"azureml-sdk==1.53.0\",\\n        \"azureml-telemetry==1.53.0\",\\n        \"azureml-train-automl-client==1.53.2\",\\n        \"azureml-train-core==1.53.0\",\\n        \"azureml-train-restclients-hyperdrive==1.53.0\",\\n        \"backports-tempfile==1.0\",\\n        \"backports-weakref==1.0.post1\",\\n        \"bcrypt==4.0.1\",\\n        \"cloudpickle==2.2.1\",\\n        \"contextlib2==21.6.0\",\\n        \"distro==1.8.0\",\\n        \"docker==6.1.3\",\\n        \"dotnetcore2==3.1.23\",\\n        \"en-core-web-lg==3.7.0\",\\n        \"es-core-news-sm==3.7.0\",\\n        \"fusepy==3.0.1\",\\n        \"humanfriendly==10.0\",\\n        \"jeepney==0.8.0\",\\n        \"jmespath==1.0.1\",\\n        \"jsonpickle==3.0.2\",\\n        \"knack==0.10.1\",\\n        \"msrestazure==0.6.4\",\\n        \"ndg-httpsclient==0.5.1\",\\n        \"numpy==1.23.5\",\\n        \"packaging==23.0\",\\n        \"paramiko==3.3.1\",\\n        \"pathspec==0.11.2\",\\n        \"pkginfo==1.9.6\",\\n        \"pyarrow==11.0.0\",\\n        \"pynacl==1.5.0\",\\n        \"pyreadline3==3.4.1\",\\n        \"scikit-learn==1.3.2\",\\n        \"secretstorage==3.3.3\",\\n        \"tabulate==0.9.0\"\\n      ]\\n    }\\n  ],\\n  \"name\": \"ML-Azure\"\\n}'})"
      ]
     },
     "execution_count": 11,
     "metadata": {},
     "output_type": "execute_result"
    }
   ],
   "source": [
    "env_docker_conda = Environment(\n",
    "    image=\"mcr.microsoft.com/azureml/openmpi3.1.2-ubuntu18.04\",\n",
    "    conda_file=\"ML-Azure.yaml\",\n",
    "    name=\"custom-env\",\n",
    "    description=\"Environment created from a Docker image plus Conda environment.\",\n",
    ")\n",
    "ml_client.environments.create_or_update(env_docker_conda)"
   ]
  },
  {
   "cell_type": "code",
   "execution_count": 21,
   "metadata": {},
   "outputs": [],
   "source": [
    "train_component = load_component(source=\"./train-component/dt_train.yml\")\n",
    "split_data_component = load_component(source=\"./split-data-component/split.yml\")\n",
    "score_component = load_component(source=\"./score-component/score.yml\")\n",
    "eval_model_component = load_component(source=\"./eval-model-component/eval.yml\")\n",
    "clean_data_component = load_component(source=\"./clean-data-component/clean_data.yml\")"
   ]
  },
  {
   "cell_type": "code",
   "execution_count": 22,
   "metadata": {},
   "outputs": [],
   "source": [
    "# define a pipeline containing 3 nodes: Prepare data node, train node, and score node\n",
    "@pipeline(\n",
    "    default_compute='cpu-cluster',\n",
    ")\n",
    "def water_potability_decision_tree_dummy(pipeline_input_data):\n",
    "\n",
    "    clean_data_node = clean_data_component(\n",
    "        data_set = pipeline_input_data\n",
    "    )\n",
    "\n",
    "    split_data_node = split_data_component(\n",
    "        clean_data = clean_data_node.outputs.data_clean_output, # Directory\n",
    "        split_ratio_train = 0.8\n",
    "    )\n",
    "\n",
    "    train_node = train_component(\n",
    "        training_data=split_data_node.outputs.data_train, # File\n",
    "        criterion = 'entropy',\n",
    "        min_samples_split=2,\n",
    "        max_depth=None\n",
    "    )\n",
    "    \n",
    "    score_node = score_component(\n",
    "        test_data=split_data_node.outputs.data_test, # File\n",
    "        model_input=train_node.outputs.model_output # Folder\n",
    "    )\n",
    "\n",
    "    eval_node = eval_model_component(\n",
    "        scoring_result=score_node.outputs.score_output, # Folder\n",
    "        target_column = 'Potability'\n",
    "    )\n",
    "\n",
    "    return {\n",
    "        \"correlation_graph\" : clean_data_node.outputs.corr_matrix_output,\n",
    "        \"model_pkl\" : train_node.outputs.model_output,\n",
    "        \"model_metrics\": eval_node.outputs.eval_output\n",
    "    }\n",
    "\n",
    "\n",
    "# create a pipeline\n",
    "water_potability_ds =  Input(\n",
    "            type=\"uri_file\",\n",
    "            path=\"azureml://subscriptions/df5b1289-646f-4999-a2a8-7eec46d13e15/resourcegroups/Azure-ML/workspaces/Azureml/datastores/workspaceblobstore/paths/UI/2023-11-08_041356_UTC/water_potability_ds.csv\",\n",
    "        )\n",
    "pipeline_job = water_potability_decision_tree_dummy(pipeline_input_data=water_potability_ds)"
   ]
  },
  {
   "cell_type": "code",
   "execution_count": 23,
   "metadata": {},
   "outputs": [
    {
     "data": {
      "text/html": [
       "<table style=\"width:100%\"><tr><th>Experiment</th><th>Name</th><th>Type</th><th>Status</th><th>Details Page</th></tr><tr><td>pipeline_water_potability_custom_env</td><td>frosty_cumin_wqpnqz9jb8</td><td>pipeline</td><td>Preparing</td><td><a href=\"https://ml.azure.com/runs/frosty_cumin_wqpnqz9jb8?wsid=/subscriptions/df5b1289-646f-4999-a2a8-7eec46d13e15/resourcegroups/Azure-ML/workspaces/Azureml&amp;tid=84cbc21b-fdf3-4272-ad34-f4c0fcf70fa1\" target=\"_blank\" rel=\"noopener\">Link to Azure Machine Learning studio</a></td></tr></table>"
      ],
      "text/plain": [
       "PipelineJob({'inputs': {'pipeline_input_data': <azure.ai.ml.entities._job.pipeline._io.base.PipelineInput object at 0x00000259271AA620>}, 'outputs': {'correlation_graph': <azure.ai.ml.entities._job.pipeline._io.base.PipelineOutput object at 0x00000259271AA5F0>, 'model_pkl': <azure.ai.ml.entities._job.pipeline._io.base.PipelineOutput object at 0x00000259271AA350>, 'model_metrics': <azure.ai.ml.entities._job.pipeline._io.base.PipelineOutput object at 0x00000259271AA5C0>}, 'jobs': {}, 'component': PipelineComponent({'intellectual_property': None, 'auto_increment_version': False, 'source': 'REMOTE.WORKSPACE.JOB', 'is_anonymous': True, 'auto_delete_setting': None, 'name': 'azureml_anonymous', 'description': None, 'tags': {}, 'properties': {}, 'print_as_yaml': True, 'id': None, 'Resource__source_path': None, 'base_path': 'c:\\\\Users\\\\Y540\\\\Documents\\\\Diplomado ML\\\\Modulo 4\\\\Diplomado-ML-2023---Proyecto-2', 'creation_context': None, 'serialize': <msrest.serialization.Serializer object at 0x00000259271AA770>, 'version': '1', 'latest_version': None, 'schema': None, 'type': 'pipeline', 'display_name': 'water_potability_decision_tree_dummy', 'is_deterministic': None, 'inputs': {'pipeline_input_data': {}}, 'outputs': {'correlation_graph': {}, 'model_pkl': {}, 'model_metrics': {}}, 'yaml_str': None, 'other_parameter': {}, 'jobs': {'clean_data_node': Command({'parameters': {}, 'init': False, 'name': 'clean_data_node', 'type': 'command', 'status': None, 'log_files': None, 'description': None, 'tags': {}, 'properties': {}, 'print_as_yaml': True, 'id': None, 'Resource__source_path': None, 'base_path': 'c:\\\\Users\\\\Y540\\\\Documents\\\\Diplomado ML\\\\Modulo 4\\\\Diplomado-ML-2023---Proyecto-2', 'creation_context': None, 'serialize': <msrest.serialization.Serializer object at 0x00000259271AAD40>, 'allowed_keys': {}, 'key_restriction': False, 'logger': <Logger attr_dict (WARNING)>, 'display_name': None, 'experiment_name': None, 'compute': None, 'services': None, 'comment': None, 'job_inputs': {'data_set': '${{parent.inputs.pipeline_input_data}}'}, 'job_outputs': {'corr_matrix_output': '${{parent.outputs.correlation_graph}}'}, 'inputs': {'data_set': <azure.ai.ml.entities._job.pipeline._io.base.NodeInput object at 0x00000259271AAF50>}, 'outputs': {'corr_matrix_output': <azure.ai.ml.entities._job.pipeline._io.base.NodeOutput object at 0x00000259271AAE30>}, 'component': 'azureml_anonymous:65119918-2065-4796-bb87-467fbd89b8f1', 'referenced_control_flow_node_instance_id': None, 'kwargs': {'services': None}, 'instance_id': 'd210447b-87f2-4d52-abaf-ade981d3f16f', 'source': 'REMOTE.WORKSPACE.COMPONENT', 'validate_required_input_not_provided': True, 'limits': None, 'identity': None, 'distribution': None, 'environment_variables': {}, 'environment': None, 'resources': None, 'queue_settings': None, 'swept': False}), 'split_data_node': Command({'parameters': {}, 'init': False, 'name': 'split_data_node', 'type': 'command', 'status': None, 'log_files': None, 'description': None, 'tags': {}, 'properties': {}, 'print_as_yaml': True, 'id': None, 'Resource__source_path': None, 'base_path': 'c:\\\\Users\\\\Y540\\\\Documents\\\\Diplomado ML\\\\Modulo 4\\\\Diplomado-ML-2023---Proyecto-2', 'creation_context': None, 'serialize': <msrest.serialization.Serializer object at 0x00000259271AAE60>, 'allowed_keys': {}, 'key_restriction': False, 'logger': <Logger attr_dict (WARNING)>, 'display_name': None, 'experiment_name': None, 'compute': None, 'services': None, 'comment': None, 'job_inputs': {'split_ratio_train': '0.8', 'clean_data': '${{parent.jobs.clean_data_node.outputs.data_clean_output}}'}, 'job_outputs': {}, 'inputs': {'split_ratio_train': <azure.ai.ml.entities._job.pipeline._io.base.NodeInput object at 0x00000259271AB040>, 'clean_data': <azure.ai.ml.entities._job.pipeline._io.base.NodeInput object at 0x00000259271AAC80>}, 'outputs': {}, 'component': 'azureml_anonymous:07923a77-159c-4267-a260-c24b9b3a5f19', 'referenced_control_flow_node_instance_id': None, 'kwargs': {'services': None}, 'instance_id': 'd139c4e8-dfd7-47f8-811d-b228a7062353', 'source': 'REMOTE.WORKSPACE.COMPONENT', 'validate_required_input_not_provided': True, 'limits': None, 'identity': None, 'distribution': None, 'environment_variables': {}, 'environment': None, 'resources': None, 'queue_settings': None, 'swept': False}), 'train_node': Command({'parameters': {}, 'init': False, 'name': 'train_node', 'type': 'command', 'status': None, 'log_files': None, 'description': None, 'tags': {}, 'properties': {}, 'print_as_yaml': True, 'id': None, 'Resource__source_path': None, 'base_path': 'c:\\\\Users\\\\Y540\\\\Documents\\\\Diplomado ML\\\\Modulo 4\\\\Diplomado-ML-2023---Proyecto-2', 'creation_context': None, 'serialize': <msrest.serialization.Serializer object at 0x00000259271AA7D0>, 'allowed_keys': {}, 'key_restriction': False, 'logger': <Logger attr_dict (WARNING)>, 'display_name': None, 'experiment_name': None, 'compute': None, 'services': None, 'comment': None, 'job_inputs': {'criterion': 'entropy', 'min_samples_split': '2', 'training_data': '${{parent.jobs.split_data_node.outputs.data_train}}'}, 'job_outputs': {'model_output': '${{parent.outputs.model_pkl}}'}, 'inputs': {'criterion': <azure.ai.ml.entities._job.pipeline._io.base.NodeInput object at 0x00000259271AAFE0>, 'min_samples_split': <azure.ai.ml.entities._job.pipeline._io.base.NodeInput object at 0x00000259271AAC50>, 'training_data': <azure.ai.ml.entities._job.pipeline._io.base.NodeInput object at 0x00000259271AB340>}, 'outputs': {'model_output': <azure.ai.ml.entities._job.pipeline._io.base.NodeOutput object at 0x00000259271AA6B0>}, 'component': 'azureml_anonymous:186fda6d-241c-44ed-a8a2-b9b92a82dc54', 'referenced_control_flow_node_instance_id': None, 'kwargs': {'services': None}, 'instance_id': 'fd497503-ba44-4f6f-8d7c-8757b4159f5d', 'source': 'REMOTE.WORKSPACE.COMPONENT', 'validate_required_input_not_provided': True, 'limits': None, 'identity': None, 'distribution': None, 'environment_variables': {}, 'environment': None, 'resources': None, 'queue_settings': None, 'swept': False}), 'score_node': Command({'parameters': {}, 'init': False, 'name': 'score_node', 'type': 'command', 'status': None, 'log_files': None, 'description': None, 'tags': {}, 'properties': {}, 'print_as_yaml': True, 'id': None, 'Resource__source_path': None, 'base_path': 'c:\\\\Users\\\\Y540\\\\Documents\\\\Diplomado ML\\\\Modulo 4\\\\Diplomado-ML-2023---Proyecto-2', 'creation_context': None, 'serialize': <msrest.serialization.Serializer object at 0x00000259271AACE0>, 'allowed_keys': {}, 'key_restriction': False, 'logger': <Logger attr_dict (WARNING)>, 'display_name': None, 'experiment_name': None, 'compute': None, 'services': None, 'comment': None, 'job_inputs': {'model_input': '${{parent.jobs.train_node.outputs.model_output}}', 'test_data': '${{parent.jobs.split_data_node.outputs.data_test}}'}, 'job_outputs': {}, 'inputs': {'model_input': <azure.ai.ml.entities._job.pipeline._io.base.NodeInput object at 0x00000259271AAAA0>, 'test_data': <azure.ai.ml.entities._job.pipeline._io.base.NodeInput object at 0x00000259271AAA70>}, 'outputs': {}, 'component': 'azureml_anonymous:71e693c9-8e35-46a3-ad69-703f0ad41bba', 'referenced_control_flow_node_instance_id': None, 'kwargs': {'services': None}, 'instance_id': 'df92d10d-8553-4baa-b12a-5163aeb01127', 'source': 'REMOTE.WORKSPACE.COMPONENT', 'validate_required_input_not_provided': True, 'limits': None, 'identity': None, 'distribution': None, 'environment_variables': {}, 'environment': None, 'resources': None, 'queue_settings': None, 'swept': False}), 'eval_node': Command({'parameters': {}, 'init': False, 'name': 'eval_node', 'type': 'command', 'status': None, 'log_files': None, 'description': None, 'tags': {}, 'properties': {}, 'print_as_yaml': True, 'id': None, 'Resource__source_path': None, 'base_path': 'c:\\\\Users\\\\Y540\\\\Documents\\\\Diplomado ML\\\\Modulo 4\\\\Diplomado-ML-2023---Proyecto-2', 'creation_context': None, 'serialize': <msrest.serialization.Serializer object at 0x00000259271AA980>, 'allowed_keys': {}, 'key_restriction': False, 'logger': <Logger attr_dict (WARNING)>, 'display_name': None, 'experiment_name': None, 'compute': None, 'services': None, 'comment': None, 'job_inputs': {'target_column': 'Potability', 'scoring_result': '${{parent.jobs.score_node.outputs.score_output}}'}, 'job_outputs': {'eval_output': '${{parent.outputs.model_metrics}}'}, 'inputs': {'target_column': <azure.ai.ml.entities._job.pipeline._io.base.NodeInput object at 0x00000259271AAA10>, 'scoring_result': <azure.ai.ml.entities._job.pipeline._io.base.NodeInput object at 0x00000259271AA9B0>}, 'outputs': {'eval_output': <azure.ai.ml.entities._job.pipeline._io.base.NodeOutput object at 0x00000259271AA740>}, 'component': 'azureml_anonymous:f0644b38-dfb2-46bf-be55-d33eb3f806a6', 'referenced_control_flow_node_instance_id': None, 'kwargs': {'services': None}, 'instance_id': 'e3a3c5b2-2673-4c08-a396-254e09a4bf24', 'source': 'REMOTE.WORKSPACE.COMPONENT', 'validate_required_input_not_provided': True, 'limits': None, 'identity': None, 'distribution': None, 'environment_variables': {}, 'environment': None, 'resources': None, 'queue_settings': None, 'swept': False})}, 'job_types': {'command': 5}, 'job_sources': {'REMOTE.WORKSPACE.COMPONENT': 5}, 'source_job_id': None}), 'type': 'pipeline', 'status': 'Preparing', 'log_files': None, 'name': 'frosty_cumin_wqpnqz9jb8', 'description': None, 'tags': {}, 'properties': {'mlflow.source.git.repoURL': 'https://github.com/JuanPaauul/Diplomado-ML-2023---Proyecto-2.git', 'mlflow.source.git.branch': 'main', 'mlflow.source.git.commit': '663e4d3038c69fe3f2be3a17b8e43cf358393f78', 'azureml.git.dirty': 'True', 'azureml.DevPlatv2': 'true', 'azureml.DatasetAccessMode': 'Asset', 'azureml.runsource': 'azureml.PipelineRun', 'runSource': 'MFE', 'runType': 'HTTP', 'azureml.parameters': '{}', 'azureml.continue_on_step_failure': 'True', 'azureml.continue_on_failed_optional_input': 'True', 'azureml.enforceRerun': 'False', 'azureml.defaultComputeName': 'cpu-cluster', 'azureml.defaultDataStoreName': 'workspaceblobstore', 'azureml.pipelineComponent': 'pipelinerun'}, 'print_as_yaml': True, 'id': '/subscriptions/df5b1289-646f-4999-a2a8-7eec46d13e15/resourceGroups/Azure-ML/providers/Microsoft.MachineLearningServices/workspaces/Azureml/jobs/frosty_cumin_wqpnqz9jb8', 'Resource__source_path': None, 'base_path': 'c:\\\\Users\\\\Y540\\\\Documents\\\\Diplomado ML\\\\Modulo 4\\\\Diplomado-ML-2023---Proyecto-2', 'creation_context': <azure.ai.ml.entities._system_data.SystemData object at 0x00000259271AA3E0>, 'serialize': <msrest.serialization.Serializer object at 0x00000259271AA590>, 'display_name': 'water_potability_decision_tree_dummy', 'experiment_name': 'pipeline_water_potability_custom_env', 'compute': None, 'services': {'Tracking': {'endpoint': 'azureml://eastus.api.azureml.ms/mlflow/v1.0/subscriptions/df5b1289-646f-4999-a2a8-7eec46d13e15/resourceGroups/Azure-ML/providers/Microsoft.MachineLearningServices/workspaces/Azureml?', 'type': 'Tracking'}, 'Studio': {'endpoint': 'https://ml.azure.com/runs/frosty_cumin_wqpnqz9jb8?wsid=/subscriptions/df5b1289-646f-4999-a2a8-7eec46d13e15/resourcegroups/Azure-ML/workspaces/Azureml&tid=84cbc21b-fdf3-4272-ad34-f4c0fcf70fa1', 'type': 'Studio'}}, 'settings': {}, 'identity': None, 'default_code': None, 'default_environment': None})"
      ]
     },
     "execution_count": 23,
     "metadata": {},
     "output_type": "execute_result"
    }
   ],
   "source": [
    "pipeline_job = ml_client.jobs.create_or_update(\n",
    "    pipeline_job, \n",
    "    experiment_name=\"pipeline_water_potability_custom_env\"\n",
    ")\n",
    "pipeline_job"
   ]
  },
  {
   "cell_type": "code",
   "execution_count": null,
   "metadata": {},
   "outputs": [],
   "source": []
  }
 ],
 "metadata": {
  "kernelspec": {
   "display_name": "ML-Azure",
   "language": "python",
   "name": "python3"
  },
  "language_info": {
   "codemirror_mode": {
    "name": "ipython",
    "version": 3
   },
   "file_extension": ".py",
   "mimetype": "text/x-python",
   "name": "python",
   "nbconvert_exporter": "python",
   "pygments_lexer": "ipython3",
   "version": "3.10.13"
  }
 },
 "nbformat": 4,
 "nbformat_minor": 2
}
